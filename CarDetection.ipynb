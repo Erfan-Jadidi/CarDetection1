{
 "cells": [
  {
   "cell_type": "raw",
   "id": "55f7e1d6-da12-4574-8b81-f6175a24c579",
   "metadata": {},
   "source": [
    "Weekly reporting from Peace Bridge highway camera"
   ]
  },
  {
   "cell_type": "raw",
   "id": "3b6a6994-798d-452b-b6f3-4d4735845032",
   "metadata": {},
   "source": [
    "Part1-Saving the live from Camera"
   ]
  },
  {
   "cell_type": "markdown",
   "id": "866ee1f8-7f37-463d-8714-39dc53a74960",
   "metadata": {},
   "source": [
    "import libraries"
   ]
  },
  {
   "cell_type": "code",
   "execution_count": null,
   "id": "65e56697-834b-4ea7-8f04-f24d36eb04c3",
   "metadata": {},
   "outputs": [],
   "source": [
    "import streamlink\n",
    "import time\n",
    "import cv2 as cv"
   ]
  },
  {
   "cell_type": "markdown",
   "id": "fd9da71a-9a7e-4099-a793-4bbf7fd26a13",
   "metadata": {},
   "source": [
    "stream(m3u8) link"
   ]
  },
  {
   "cell_type": "code",
   "execution_count": null,
   "id": "dead4a1e-010a-4818-8ea1-8e994a595be0",
   "metadata": {},
   "outputs": [],
   "source": [
    "stream_url = \"https://manifest.googlevideo.com/api/manifest/hls_variant/expire/1726699152/ei/MALrZpH9FajGi9oP8JeGgQQ/ip/86.107.43.88/id/DnUFAShZKus.1/source/yt_live_broadcast/requiressl/yes/xpc/EgVo2aDSNQ%3D%3D/tx/51257031/txs/51257028%2C51257029%2C51257030%2C51257031%2C51257032/hfr/1/playlist_duration/30/manifest_duration/30/maudio/1/spc/54MbxWGYEv10L5MZxcl1QBLH03orKC2Lm1DTpiyQY2Mqo9MPwbAv0LqcZ42gVds/vprv/1/go/1/rqh/5/pacing/0/nvgoi/1/keepalive/yes/dover/11/itag/0/playlist_type/DVR/sparams/expire%2Cei%2Cip%2Cid%2Csource%2Crequiressl%2Cxpc%2Ctx%2Ctxs%2Chfr%2Cplaylist_duration%2Cmanifest_duration%2Cmaudio%2Cspc%2Cvprv%2Cgo%2Crqh%2Citag%2Cplaylist_type/sig/AJfQdSswRgIhAIlr1yE85xJ5e1k2sQEPQAsoRyX_kXRyWcJU-8igQExGAiEA-PvI-ZgPrvU1ETolGEfhqC0SIG7bN7sDRbpblyL6Umg%3D/file/index.m3u8\"\n",
    "# https://anym3u8player.com/yt/\n",
    "streams = streamlink.streams(stream_url)\n",
    "print(streams) "
   ]
  },
  {
   "cell_type": "markdown",
   "id": "58ca91e0-f279-414a-be7a-2ca5fd1ed8ab",
   "metadata": {},
   "source": [
    "Saving the live"
   ]
  },
  {
   "cell_type": "code",
   "execution_count": null,
   "id": "0127cc20-3e10-4f0d-a8b2-02ee4ad5619f",
   "metadata": {},
   "outputs": [],
   "source": [
    "if \"best\" in streams:\n",
    "    stream = streams[\"best\"]\n",
    "else:\n",
    "    print(\"Stream Not Available.\")\n",
    "    stream = None\n",
    "\n",
    "if stream:\n",
    "    start_time = time.time()\n",
    "    max_duration = 20 * 60 # 10 min\n",
    "\n",
    "    with open(\"F:\\DA\\Projects\\Peace_bridge\\output3.mp4\", \"wb\") as f:\n",
    "        for chunk in stream.open():\n",
    "            f.write(chunk)\n",
    "            elapsed_time = time.time() - start_time\n",
    "            if elapsed_time > max_duration:\n",
    "                print(\"End.\")\n",
    "                break"
   ]
  },
  {
   "cell_type": "raw",
   "id": "61fa1ce6-f054-40b2-bbb3-08b0565d582b",
   "metadata": {},
   "source": [
    "Part2-Detection"
   ]
  },
  {
   "cell_type": "raw",
   "id": "06f24555-c189-4842-b6e6-affc5a38d50e",
   "metadata": {},
   "source": [
    "import libraries"
   ]
  },
  {
   "cell_type": "code",
   "execution_count": null,
   "id": "0719b193-f05b-4803-a365-e8b6eb69b7f0",
   "metadata": {},
   "outputs": [],
   "source": [
    "import cv2 as cv\n",
    "import numpy as np\n",
    "from matplotlib import pyplot as plt\n",
    "import ffmpeg\n",
    "import os\n",
    "import datetime\n",
    "import pytz\n",
    "from scipy.signal import find_peaks\n",
    "import sqlite3"
   ]
  },
  {
   "cell_type": "markdown",
   "id": "2094fa05-6ed7-437d-b5f0-5f7b60694554",
   "metadata": {},
   "source": [
    "video link"
   ]
  },
  {
   "cell_type": "code",
   "execution_count": null,
   "id": "b20acaa4-a730-407f-90d5-5d7d0a6cb794",
   "metadata": {},
   "outputs": [],
   "source": [
    "vid_path = \"F:\\\\DA\\\\Projects\\\\Peace_bridge\\\\output3.mp4\""
   ]
  },
  {
   "cell_type": "markdown",
   "id": "8d80f293-b0d2-43d9-85de-fc6ce10b7b0a",
   "metadata": {},
   "source": [
    "convert creation time"
   ]
  },
  {
   "cell_type": "code",
   "execution_count": null,
   "id": "1c0384f8-185a-4b25-91d5-5b76e8ad8a76",
   "metadata": {},
   "outputs": [],
   "source": [
    "def convert_to_canada_time(local_time, local_timezone_str, canada_timezone_str):\n",
    "    local_timezone = pytz.timezone(local_timezone_str)\n",
    "    local_time = local_timezone.localize(local_time)\n",
    "    canada_timezone = pytz.timezone(canada_timezone_str)\n",
    "    canada_time = local_time.astimezone(canada_timezone)\n",
    "    return canada_time\n",
    "\n",
    "def get_file_creation_time(file_path):\n",
    "    creation_time = os.path.getctime(file_path)\n",
    "    creation_time_readable = datetime.datetime.fromtimestamp(creation_time)\n",
    "    date = creation_time_readable.date()\n",
    "    time = creation_time_readable.time().replace(microsecond=0)\n",
    "    full_creation_time = datetime.datetime.combine(date, time)\n",
    "    return full_creation_time\n",
    "\n",
    "main_time = get_file_creation_time(vid_path)\n",
    "local_timezone_str = 'Asia/Tehran'\n",
    "canada_timezone_str = 'America/Toronto'\n",
    "canada_time = convert_to_canada_time(main_time, local_timezone_str, canada_timezone_str)"
   ]
  },
  {
   "cell_type": "markdown",
   "id": "44c03040-d2c7-41ee-bd09-ed87f06d5bea",
   "metadata": {},
   "source": [
    "video capture"
   ]
  },
  {
   "cell_type": "code",
   "execution_count": null,
   "id": "f53cb06d-4667-458f-ae43-eb733d050e1e",
   "metadata": {},
   "outputs": [],
   "source": [
    "vid_cv = cv.VideoCapture(vid_path)\n",
    "\n",
    "if not vid_cv.isOpened():\n",
    "    print(f\"Error: Could not open video file: {vid_path}\")\n",
    "    exit()\n",
    "ret, frame1 = vid_cv.read()\n",
    "if not ret or frame1 is None:\n",
    "    print(\"Error: Could not read the first frame from the video.\")\n",
    "    exit()"
   ]
  },
  {
   "cell_type": "markdown",
   "id": "5c4b3bc6-8706-44e6-88b9-fd7e19c37e9d",
   "metadata": {},
   "source": [
    "Initialize lists for storing differences and timestamps"
   ]
  },
  {
   "cell_type": "code",
   "execution_count": null,
   "id": "9b059555-4fbe-4281-be81-8f5cb901f62b",
   "metadata": {},
   "outputs": [],
   "source": [
    "lst = []\n",
    "timestamps = []"
   ]
  },
  {
   "cell_type": "markdown",
   "id": "63581bdc-b94a-4ad7-b6b0-cd165155e9bb",
   "metadata": {},
   "source": [
    "Line1 frame1 processing"
   ]
  },
  {
   "cell_type": "code",
   "execution_count": null,
   "id": "b70cb2ff-ad7f-4297-9e5d-2e364655a955",
   "metadata": {},
   "outputs": [],
   "source": [
    "image = cv.cvtColor(frame1, cv.COLOR_BGR2GRAY)\n",
    "pts = np.array([[400, 491], [335, 560], [551, 560], [559, 491]])\n",
    "mask = np.zeros(image.shape[:2], dtype=np.uint8)\n",
    "cv.fillPoly(mask, [pts], 255)\n",
    "trapezoid_region = cv.bitwise_and(image, image, mask=mask)\n",
    "main_mask = trapezoid_region"
   ]
  },
  {
   "cell_type": "markdown",
   "id": "2f6c3dce-2686-48ec-af7d-1510a9d6f984",
   "metadata": {},
   "source": [
    "Other frame processing"
   ]
  },
  {
   "cell_type": "code",
   "execution_count": null,
   "id": "b08e58b1-0eea-4b4d-95b3-e0aa42c611b0",
   "metadata": {},
   "outputs": [],
   "source": [
    "while vid_cv.isOpened():\n",
    "    ret, frame2 = vid_cv.read()\n",
    "    if not ret or frame2 is None:\n",
    "        break\n",
    "    \n",
    "    gray = cv.cvtColor(frame2, cv.COLOR_BGR2GRAY)\n",
    "\n",
    "    # Line1 processing\n",
    "    mask = np.zeros(gray.shape[:2], dtype=np.uint8)\n",
    "    cv.fillPoly(mask, [pts], 255)\n",
    "    trapezoid_regions = cv.bitwise_and(gray, gray, mask=mask)\n",
    "    diff = cv.absdiff(main_mask, trapezoid_regions)\n",
    "    main_mask = trapezoid_regions.copy()\n",
    "    diff_sum = pow(np.sum(diff), 2)\n",
    "    lst.append(diff_sum)\n",
    "\n",
    "\n",
    "    current_time = datetime.timedelta(seconds=frame_count / fps)\n",
    "    timestamps.append(current_time)\n",
    "    \n",
    "    cv.imshow('line1', trapezoid_regions)\n",
    "    \n",
    "    if cv.waitKey(30) & 0xFF == ord('q'):\n",
    "        break\n",
    "\n",
    "vid_cv.release()\n",
    "cv.destroyAllWindows()"
   ]
  },
  {
   "cell_type": "markdown",
   "id": "12cb181a-ce3f-4b06-9cd3-83907a97fed6",
   "metadata": {},
   "source": [
    "Find Number Of Cars & Peak Plot"
   ]
  },
  {
   "cell_type": "code",
   "execution_count": null,
   "id": "18ccc41d-7a11-46dd-a101-ba9f54c2d6a8",
   "metadata": {},
   "outputs": [],
   "source": [
    "peaks, _ = find_peaks(lst, height=1e11, distance=100, prominence=1e11)\n",
    "\n",
    "plt.figure()\n",
    "plt.plot(np.ravel(lst))\n",
    "plt.plot(peaks, np.array(lst)[peaks], \"x\")\n",
    "plt.title('Line 1 Car Detection')\n",
    "plt.show()\n",
    "\n",
    "print(f\"Number of peaks detected for Line 1: {len(peaks)}\")"
   ]
  },
  {
   "cell_type": "markdown",
   "id": "787ee0d8-5614-49e4-b613-c57aba2d39c6",
   "metadata": {},
   "source": [
    "Add to DataBase(Sqlite) & Find Peaks"
   ]
  },
  {
   "cell_type": "code",
   "execution_count": null,
   "id": "f86553e0-19e6-4af5-aa65-63b4f7bbf4f9",
   "metadata": {},
   "outputs": [],
   "source": [
    "conn = sqlite3.connect('NewData.db')\n",
    "cursor = conn.cursor()\n",
    "cursor.execute('''\n",
    "    CREATE TABLE IF NOT EXISTS records (\n",
    "        id INTEGER PRIMARY KEY AUTOINCREMENT,\n",
    "        timestamp TEXT NOT NULL,\n",
    "        value INTEGER NOT NULL\n",
    "    )\n",
    "''')\n",
    "\n",
    "cnt_car = 0\n",
    "\n",
    "if len(timestamps) == len(lst):\n",
    "    for peak in peaks:\n",
    "        if peak < len(timestamps):\n",
    "            cnt_car += 1\n",
    "            peak_time = timestamps[peak]\n",
    "            total_seconds = peak_time.total_seconds()\n",
    "            detection_time = canada_time + datetime.timedelta(seconds=total_seconds)\n",
    "            formatted_time = detection_time.strftime('%Y-%m-%d %H:%M:%S')\n",
    "            current_time = formatted_time\n",
    "            cursor.execute('''\n",
    "                INSERT INTO records (timestamp, value)\n",
    "                VALUES (?, ?)\n",
    "                ''', (current_time, cnt_car))\n",
    "else:\n",
    "    print(\"Error: Length of timestamps list does not match length of lst.\")\n",
    "\n",
    "conn.commit()\n",
    "conn.close()"
   ]
  },
  {
   "cell_type": "markdown",
   "id": "661c6a17",
   "metadata": {},
   "source": [
    "In the database, I stored one week's data from Pace Bridge according to the live shows I recorded and their reports in the database.\n",
    "According to the data, the number of passing cars increases in order (from left to right) on Thursday, Friday, Monday, Tuesday, Wednesday, Saturday and Sunday."
   ]
  }
 ],
 "metadata": {
  "kernelspec": {
   "display_name": "Python 3 (ipykernel)",
   "language": "python",
   "name": "python3"
  },
  "language_info": {
   "codemirror_mode": {
    "name": "ipython",
    "version": 3
   },
   "file_extension": ".py",
   "mimetype": "text/x-python",
   "name": "python",
   "nbconvert_exporter": "python",
   "pygments_lexer": "ipython3",
   "version": "3.11.5"
  }
 },
 "nbformat": 4,
 "nbformat_minor": 5
}
